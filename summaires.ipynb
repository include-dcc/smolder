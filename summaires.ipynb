{
 "cells": [
  {
   "cell_type": "code",
   "execution_count": null,
   "id": "579c1b9f-0c12-459c-bf54-df28afb809d3",
   "metadata": {
    "scrolled": true
   },
   "outputs": [],
   "source": [
    "%%capture\n",
    "%pip install pyyaml pandas;\n",
    "%pip install -e .;\n",
    "#to do fetch from git url"
   ]
  },
  {
   "cell_type": "code",
   "execution_count": 76,
   "id": "00d76712",
   "metadata": {},
   "outputs": [],
   "source": [
    "#imports\n",
    "import pandas as pd\n",
    "import subprocess\n",
    "import os\n",
    "from IPython.display import display, HTML\n",
    "from tabulate import tabulate\n",
    "from summary.report_fhir_counts import AVAILABLE_STUDIES\n",
    "import yaml\n",
    "import filecmp\n",
    "from style import css"
   ]
  },
  {
   "cell_type": "markdown",
   "id": "796c1b94",
   "metadata": {},
   "source": [
    "#### Generate summary files"
   ]
  },
  {
   "cell_type": "code",
   "execution_count": 77,
   "id": "68f917fd",
   "metadata": {},
   "outputs": [],
   "source": [
    "%%capture\n",
    "%run run-summaries.py"
   ]
  },
  {
   "cell_type": "markdown",
   "id": "1870e28a",
   "metadata": {},
   "source": [
    "### Check if QA and Prod are synced"
   ]
  },
  {
   "cell_type": "code",
   "execution_count": 78,
   "id": "74e1f5ac",
   "metadata": {
    "jupyter": {
     "source_hidden": true
    },
    "scrolled": true
   },
   "outputs": [
    {
     "data": {
      "text/html": [
       "<pre style=\"white-space:pre;overflow-x:auto;line-height:normal;font-family:Menlo,'DejaVu Sans Mono',consolas,'Courier New',monospace\"></pre>\n"
      ],
      "text/plain": []
     },
     "metadata": {},
     "output_type": "display_data"
    },
    {
     "data": {
      "text/html": [
       "<div style='padding:1rem; border:1px solid; background:#eeee;'><h3>Comparing 'output/summary/PROD' and 'output/summary/QA'</h3><h2>✅ All good!</h2></div>"
      ],
      "text/plain": [
       "\u001b[1m<\u001b[0m\u001b[1;95mIPython.core.display.HTML\u001b[0m\u001b[39m object\u001b[0m\u001b[1m>\u001b[0m"
      ]
     },
     "execution_count": 78,
     "metadata": {},
     "output_type": "execute_result"
    }
   ],
   "source": [
    "#run diff on QA and PROD\n",
    "def folder_diff(folder1, folder2):\n",
    "    \"\"\"Compares two folders and generates HTML output for the differences or \"All good!\" if identical.\"\"\"\n",
    "    result = filecmp.dircmp(folder1, folder2)\n",
    "\n",
    "    # Check if folders are identical\n",
    "    if not result.left_only and not result.right_only and not result.diff_files:\n",
    "        return f\"<h3>Comparing '{folder1}' and '{folder2}'</h3><h2>✅ All good!</h2>\" \n",
    "\n",
    "    # If not identical, generate the diff output\n",
    "    diff_output = f\"<h1>‼️ 🔴 🆘</h1><h3>'{folder1}' and '{folder2}' are not synced!</h3><ul>\"\n",
    "\n",
    "    if result.left_only:\n",
    "        diff_output += \"<li><b>Files only in {folder1}:</b><ul>\"\n",
    "        for item in result.left_only:\n",
    "            diff_output += f\"<li>{item}</li>\"\n",
    "        diff_output += \"</ul></li>\"\n",
    "\n",
    "    if result.right_only:\n",
    "        diff_output += \"<li><b>Files only in {folder2}:</b><ul>\"\n",
    "        for item in result.right_only:\n",
    "            diff_output += f\"<li>{item}</li>\"\n",
    "        diff_output += \"</ul></li>\"\n",
    "\n",
    "    if result.diff_files:\n",
    "        diff_output += \"<li><b>Different files:</b><ul>\"\n",
    "        for item in result.diff_files:\n",
    "            diff_output += f\"<li>{item}</li>\"\n",
    "        diff_output += \"</ul></li>\"\n",
    "\n",
    "    # Recursively compare subdirectories\n",
    "    for common_dir in result.common_dirs:\n",
    "        diff_output += folder_diff(os.path.join(folder1, common_dir), os.path.join(folder2, common_dir))\n",
    "\n",
    "    diff_output += \"</ul>\"\n",
    "    return diff_output\n",
    "\n",
    "PROD = 'output/summary/PROD'\n",
    "QA = 'output/summary/QA'\n",
    "\n",
    "# Display the diff output as HTML\n",
    "HTML(\"<div style='padding:1rem; border:1px solid; background:#eeee;'>\" + folder_diff(PROD, QA) + \"</div>\")"
   ]
  },
  {
   "cell_type": "markdown",
   "id": "423a98b4",
   "metadata": {},
   "source": [
    "### Summaries"
   ]
  },
  {
   "cell_type": "code",
   "execution_count": 79,
   "id": "92905810",
   "metadata": {
    "scrolled": true
   },
   "outputs": [
    {
     "data": {
      "text/html": [
       "<pre style=\"white-space:pre;overflow-x:auto;line-height:normal;font-family:Menlo,'DejaVu Sans Mono',consolas,'Courier New',monospace\"></pre>\n"
      ],
      "text/plain": []
     },
     "metadata": {},
     "output_type": "display_data"
    },
    {
     "data": {
      "text/html": [
       "<style>\n",
       "                    .container {\n",
       "                display: grid;\n",
       "                grid-template-columns: repeat(4, minmax(7.5rem, 1fr)); /* Responsive grid */\n",
       "                gap: .5rem;\n",
       "                max-width:1000px;\n",
       "            }\n",
       "            .card {\n",
       "                border: 1px solid #00000069;\n",
       "                padding: 15px;\n",
       "                border-radius: 3px;\n",
       "                /* box-shadow: 2px 2px 5px rgba(0, 0, 0, 0.1); */\n",
       "            }\n",
       "            .card ul {\n",
       "                list-style: none;\n",
       "                padding: 0!important;\n",
       "                margin: 0;\n",
       "                margin-top:.5rem;\n",
       "                display: grid;\n",
       "                grid-template-columns: repeat(auto-fit, minmax(3rem,120px));\n",
       "            }\n",
       "            .card h3 {\n",
       "                margin: 0!important;\n",
       "            }\n",
       "            li {\n",
       "            # display:flex;\n",
       "            # white-space:nowrap!important;\n",
       "            # width:fit-content;\n",
       "            # justify-content:space-between;\n",
       "            }\n",
       "        </style><h2>ABC-DS</h2><div class='container'><div class=\"card\"><h3>Document References</h3><ul><li><span>Controlled:</span> <span>0</span></li><li><span>Registered:</span> <span>0</span></li></ul></div><div class=\"card\"><h3>Down Syndrome Status</h3><ul><li><span>D21:</span> <span>0</span></li><li><span>T21:</span> <span>0</span></li></ul></div><div class=\"card\"><h3>Family Relationship</h3><ul><li><span>Father:</span> <span>0</span></li><li><span>Mother:</span> <span>0</span></li><li><span>OtherMember:</span> <span>0</span></li><li><span>Parent:</span> <span>0</span></li><li><span>Sibling:</span> <span>0</span></li></ul></div><div class=\"card\"><h3>Family Type</h3><ul><li><span>Control-only:</span> <span>0</span></li><li><span>Duo:</span> <span>0</span></li><li><span>Other:</span> <span>0</span></li><li><span>Proband-Only:</span> <span>0</span></li><li><span>Trio:</span> <span>0</span></li><li><span>Trio+:</span> <span>0</span></li></ul></div><div class=\"card\"><h3>Participant Global IDs</h3><ul><li class='values'>0</li></ul></div><div class=\"card\"><h3>Patient Count</h3><ul><li class='values'>0</li></ul></div><div class=\"card\"><h3>Specimen</h3><ul><li><span>Count:</span> <span>0</span></li></ul></div></div>"
      ],
      "text/plain": [
       "\u001b[1m<\u001b[0m\u001b[1;95mIPython.core.display.HTML\u001b[0m\u001b[39m object\u001b[0m\u001b[1m>\u001b[0m"
      ]
     },
     "metadata": {},
     "output_type": "display_data"
    },
    {
     "data": {
      "text/html": [
       "<pre style=\"white-space:pre;overflow-x:auto;line-height:normal;font-family:Menlo,'DejaVu Sans Mono',consolas,'Courier New',monospace\"></pre>\n"
      ],
      "text/plain": []
     },
     "metadata": {},
     "output_type": "display_data"
    },
    {
     "data": {
      "text/html": [
       "<style>\n",
       "                    .container {\n",
       "                display: grid;\n",
       "                grid-template-columns: repeat(4, minmax(7.5rem, 1fr)); /* Responsive grid */\n",
       "                gap: .5rem;\n",
       "                max-width:1000px;\n",
       "            }\n",
       "            .card {\n",
       "                border: 1px solid #00000069;\n",
       "                padding: 15px;\n",
       "                border-radius: 3px;\n",
       "                /* box-shadow: 2px 2px 5px rgba(0, 0, 0, 0.1); */\n",
       "            }\n",
       "            .card ul {\n",
       "                list-style: none;\n",
       "                padding: 0!important;\n",
       "                margin: 0;\n",
       "                margin-top:.5rem;\n",
       "                display: grid;\n",
       "                grid-template-columns: repeat(auto-fit, minmax(3rem,120px));\n",
       "            }\n",
       "            .card h3 {\n",
       "                margin: 0!important;\n",
       "            }\n",
       "            li {\n",
       "            # display:flex;\n",
       "            # white-space:nowrap!important;\n",
       "            # width:fit-content;\n",
       "            # justify-content:space-between;\n",
       "            }\n",
       "        </style><h2>BrainPower</h2><div class='container'><div class=\"card\"><h3>Document References</h3><ul><li><span>Controlled:</span> <span>0</span></li><li><span>Registered:</span> <span>0</span></li></ul></div><div class=\"card\"><h3>Down Syndrome Status</h3><ul><li><span>D21:</span> <span>0</span></li><li><span>T21:</span> <span>0</span></li></ul></div><div class=\"card\"><h3>Family Relationship</h3><ul><li><span>Father:</span> <span>0</span></li><li><span>Mother:</span> <span>0</span></li><li><span>OtherMember:</span> <span>0</span></li><li><span>Parent:</span> <span>0</span></li><li><span>Sibling:</span> <span>0</span></li></ul></div><div class=\"card\"><h3>Family Type</h3><ul><li><span>Control-only:</span> <span>0</span></li><li><span>Duo:</span> <span>0</span></li><li><span>Other:</span> <span>0</span></li><li><span>Proband-Only:</span> <span>0</span></li><li><span>Trio:</span> <span>0</span></li><li><span>Trio+:</span> <span>0</span></li></ul></div><div class=\"card\"><h3>Participant Global IDs</h3><ul><li class='values'>0</li></ul></div><div class=\"card\"><h3>Patient Count</h3><ul><li class='values'>0</li></ul></div><div class=\"card\"><h3>Specimen</h3><ul><li><span>Count:</span> <span>0</span></li></ul></div></div>"
      ],
      "text/plain": [
       "\u001b[1m<\u001b[0m\u001b[1;95mIPython.core.display.HTML\u001b[0m\u001b[39m object\u001b[0m\u001b[1m>\u001b[0m"
      ]
     },
     "metadata": {},
     "output_type": "display_data"
    },
    {
     "data": {
      "text/html": [
       "<pre style=\"white-space:pre;overflow-x:auto;line-height:normal;font-family:Menlo,'DejaVu Sans Mono',consolas,'Courier New',monospace\"></pre>\n"
      ],
      "text/plain": []
     },
     "metadata": {},
     "output_type": "display_data"
    },
    {
     "data": {
      "text/html": [
       "<style>\n",
       "                    .container {\n",
       "                display: grid;\n",
       "                grid-template-columns: repeat(4, minmax(7.5rem, 1fr)); /* Responsive grid */\n",
       "                gap: .5rem;\n",
       "                max-width:1000px;\n",
       "            }\n",
       "            .card {\n",
       "                border: 1px solid #00000069;\n",
       "                padding: 15px;\n",
       "                border-radius: 3px;\n",
       "                /* box-shadow: 2px 2px 5px rgba(0, 0, 0, 0.1); */\n",
       "            }\n",
       "            .card ul {\n",
       "                list-style: none;\n",
       "                padding: 0!important;\n",
       "                margin: 0;\n",
       "                margin-top:.5rem;\n",
       "                display: grid;\n",
       "                grid-template-columns: repeat(auto-fit, minmax(3rem,120px));\n",
       "            }\n",
       "            .card h3 {\n",
       "                margin: 0!important;\n",
       "            }\n",
       "            li {\n",
       "            # display:flex;\n",
       "            # white-space:nowrap!important;\n",
       "            # width:fit-content;\n",
       "            # justify-content:space-between;\n",
       "            }\n",
       "        </style><h2>BRI-DSR</h2><div class='container'><div class=\"card\"><h3>Document References</h3><ul><li><span>Controlled:</span> <span>0</span></li><li><span>Registered:</span> <span>0</span></li></ul></div><div class=\"card\"><h3>Down Syndrome Status</h3><ul><li><span>D21:</span> <span>0</span></li><li><span>T21:</span> <span>0</span></li></ul></div><div class=\"card\"><h3>Family Relationship</h3><ul><li><span>Father:</span> <span>0</span></li><li><span>Mother:</span> <span>0</span></li><li><span>OtherMember:</span> <span>0</span></li><li><span>Parent:</span> <span>0</span></li><li><span>Sibling:</span> <span>0</span></li></ul></div><div class=\"card\"><h3>Family Type</h3><ul><li><span>Control-only:</span> <span>0</span></li><li><span>Duo:</span> <span>0</span></li><li><span>Other:</span> <span>0</span></li><li><span>Proband-Only:</span> <span>0</span></li><li><span>Trio:</span> <span>0</span></li><li><span>Trio+:</span> <span>0</span></li></ul></div><div class=\"card\"><h3>Participant Global IDs</h3><ul><li class='values'>0</li></ul></div><div class=\"card\"><h3>Patient Count</h3><ul><li class='values'>0</li></ul></div><div class=\"card\"><h3>Specimen</h3><ul><li><span>Count:</span> <span>0</span></li></ul></div></div>"
      ],
      "text/plain": [
       "\u001b[1m<\u001b[0m\u001b[1;95mIPython.core.display.HTML\u001b[0m\u001b[39m object\u001b[0m\u001b[1m>\u001b[0m"
      ]
     },
     "metadata": {},
     "output_type": "display_data"
    },
    {
     "data": {
      "text/html": [
       "<pre style=\"white-space:pre;overflow-x:auto;line-height:normal;font-family:Menlo,'DejaVu Sans Mono',consolas,'Courier New',monospace\"></pre>\n"
      ],
      "text/plain": []
     },
     "metadata": {},
     "output_type": "display_data"
    },
    {
     "data": {
      "text/html": [
       "<style>\n",
       "                    .container {\n",
       "                display: grid;\n",
       "                grid-template-columns: repeat(4, minmax(7.5rem, 1fr)); /* Responsive grid */\n",
       "                gap: .5rem;\n",
       "                max-width:1000px;\n",
       "            }\n",
       "            .card {\n",
       "                border: 1px solid #00000069;\n",
       "                padding: 15px;\n",
       "                border-radius: 3px;\n",
       "                /* box-shadow: 2px 2px 5px rgba(0, 0, 0, 0.1); */\n",
       "            }\n",
       "            .card ul {\n",
       "                list-style: none;\n",
       "                padding: 0!important;\n",
       "                margin: 0;\n",
       "                margin-top:.5rem;\n",
       "                display: grid;\n",
       "                grid-template-columns: repeat(auto-fit, minmax(3rem,120px));\n",
       "            }\n",
       "            .card h3 {\n",
       "                margin: 0!important;\n",
       "            }\n",
       "            li {\n",
       "            # display:flex;\n",
       "            # white-space:nowrap!important;\n",
       "            # width:fit-content;\n",
       "            # justify-content:space-between;\n",
       "            }\n",
       "        </style><h2>DSC</h2><div class='container'><div class=\"card\"><h3>Document References</h3><ul><li><span>Controlled:</span> <span>0</span></li><li><span>Registered:</span> <span>0</span></li></ul></div><div class=\"card\"><h3>Down Syndrome Status</h3><ul><li><span>D21:</span> <span>0</span></li><li><span>T21:</span> <span>0</span></li></ul></div><div class=\"card\"><h3>Family Relationship</h3><ul><li><span>Father:</span> <span>0</span></li><li><span>Mother:</span> <span>0</span></li><li><span>OtherMember:</span> <span>0</span></li><li><span>Parent:</span> <span>0</span></li><li><span>Sibling:</span> <span>0</span></li></ul></div><div class=\"card\"><h3>Family Type</h3><ul><li><span>Control-only:</span> <span>0</span></li><li><span>Duo:</span> <span>0</span></li><li><span>Other:</span> <span>0</span></li><li><span>Proband-Only:</span> <span>0</span></li><li><span>Trio:</span> <span>0</span></li><li><span>Trio+:</span> <span>0</span></li></ul></div><div class=\"card\"><h3>Participant Global IDs</h3><ul><li class='values'>0</li></ul></div><div class=\"card\"><h3>Patient Count</h3><ul><li class='values'>0</li></ul></div><div class=\"card\"><h3>Specimen</h3><ul><li><span>Count:</span> <span>0</span></li></ul></div></div>"
      ],
      "text/plain": [
       "\u001b[1m<\u001b[0m\u001b[1;95mIPython.core.display.HTML\u001b[0m\u001b[39m object\u001b[0m\u001b[1m>\u001b[0m"
      ]
     },
     "metadata": {},
     "output_type": "display_data"
    },
    {
     "data": {
      "text/html": [
       "<pre style=\"white-space:pre;overflow-x:auto;line-height:normal;font-family:Menlo,'DejaVu Sans Mono',consolas,'Courier New',monospace\"></pre>\n"
      ],
      "text/plain": []
     },
     "metadata": {},
     "output_type": "display_data"
    },
    {
     "data": {
      "text/html": [
       "<style>\n",
       "                    .container {\n",
       "                display: grid;\n",
       "                grid-template-columns: repeat(4, minmax(7.5rem, 1fr)); /* Responsive grid */\n",
       "                gap: .5rem;\n",
       "                max-width:1000px;\n",
       "            }\n",
       "            .card {\n",
       "                border: 1px solid #00000069;\n",
       "                padding: 15px;\n",
       "                border-radius: 3px;\n",
       "                /* box-shadow: 2px 2px 5px rgba(0, 0, 0, 0.1); */\n",
       "            }\n",
       "            .card ul {\n",
       "                list-style: none;\n",
       "                padding: 0!important;\n",
       "                margin: 0;\n",
       "                margin-top:.5rem;\n",
       "                display: grid;\n",
       "                grid-template-columns: repeat(auto-fit, minmax(3rem,120px));\n",
       "            }\n",
       "            .card h3 {\n",
       "                margin: 0!important;\n",
       "            }\n",
       "            li {\n",
       "            # display:flex;\n",
       "            # white-space:nowrap!important;\n",
       "            # width:fit-content;\n",
       "            # justify-content:space-between;\n",
       "            }\n",
       "        </style><h2>DS-Sleep</h2><div class='container'><div class=\"card\"><h3>Document References</h3><ul><li><span>Controlled:</span> <span>0</span></li><li><span>Registered:</span> <span>0</span></li></ul></div><div class=\"card\"><h3>Down Syndrome Status</h3><ul><li><span>D21:</span> <span>0</span></li><li><span>T21:</span> <span>0</span></li></ul></div><div class=\"card\"><h3>Family Relationship</h3><ul><li><span>Father:</span> <span>0</span></li><li><span>Mother:</span> <span>0</span></li><li><span>OtherMember:</span> <span>0</span></li><li><span>Parent:</span> <span>0</span></li><li><span>Sibling:</span> <span>0</span></li></ul></div><div class=\"card\"><h3>Family Type</h3><ul><li><span>Control-only:</span> <span>0</span></li><li><span>Duo:</span> <span>0</span></li><li><span>Other:</span> <span>0</span></li><li><span>Proband-Only:</span> <span>0</span></li><li><span>Trio:</span> <span>0</span></li><li><span>Trio+:</span> <span>0</span></li></ul></div><div class=\"card\"><h3>Participant Global IDs</h3><ul><li class='values'>0</li></ul></div><div class=\"card\"><h3>Patient Count</h3><ul><li class='values'>0</li></ul></div><div class=\"card\"><h3>Specimen</h3><ul><li><span>Count:</span> <span>0</span></li></ul></div></div>"
      ],
      "text/plain": [
       "\u001b[1m<\u001b[0m\u001b[1;95mIPython.core.display.HTML\u001b[0m\u001b[39m object\u001b[0m\u001b[1m>\u001b[0m"
      ]
     },
     "metadata": {},
     "output_type": "display_data"
    },
    {
     "data": {
      "text/html": [
       "<pre style=\"white-space:pre;overflow-x:auto;line-height:normal;font-family:Menlo,'DejaVu Sans Mono',consolas,'Courier New',monospace\"></pre>\n"
      ],
      "text/plain": []
     },
     "metadata": {},
     "output_type": "display_data"
    },
    {
     "data": {
      "text/html": [
       "<style>\n",
       "                    .container {\n",
       "                display: grid;\n",
       "                grid-template-columns: repeat(4, minmax(7.5rem, 1fr)); /* Responsive grid */\n",
       "                gap: .5rem;\n",
       "                max-width:1000px;\n",
       "            }\n",
       "            .card {\n",
       "                border: 1px solid #00000069;\n",
       "                padding: 15px;\n",
       "                border-radius: 3px;\n",
       "                /* box-shadow: 2px 2px 5px rgba(0, 0, 0, 0.1); */\n",
       "            }\n",
       "            .card ul {\n",
       "                list-style: none;\n",
       "                padding: 0!important;\n",
       "                margin: 0;\n",
       "                margin-top:.5rem;\n",
       "                display: grid;\n",
       "                grid-template-columns: repeat(auto-fit, minmax(3rem,120px));\n",
       "            }\n",
       "            .card h3 {\n",
       "                margin: 0!important;\n",
       "            }\n",
       "            li {\n",
       "            # display:flex;\n",
       "            # white-space:nowrap!important;\n",
       "            # width:fit-content;\n",
       "            # justify-content:space-between;\n",
       "            }\n",
       "        </style><h2>HTP</h2><div class='container'><div class=\"card\"><h3>Document References</h3><ul><li><span>Controlled:</span> <span>0</span></li><li><span>Registered:</span> <span>0</span></li></ul></div><div class=\"card\"><h3>Down Syndrome Status</h3><ul><li><span>D21:</span> <span>0</span></li><li><span>T21:</span> <span>0</span></li></ul></div><div class=\"card\"><h3>Family Relationship</h3><ul><li><span>Father:</span> <span>0</span></li><li><span>Mother:</span> <span>0</span></li><li><span>OtherMember:</span> <span>0</span></li><li><span>Parent:</span> <span>0</span></li><li><span>Sibling:</span> <span>0</span></li></ul></div><div class=\"card\"><h3>Family Type</h3><ul><li><span>Control-only:</span> <span>0</span></li><li><span>Duo:</span> <span>0</span></li><li><span>Other:</span> <span>0</span></li><li><span>Proband-Only:</span> <span>0</span></li><li><span>Trio:</span> <span>0</span></li><li><span>Trio+:</span> <span>0</span></li></ul></div><div class=\"card\"><h3>Participant Global IDs</h3><ul><li class='values'>0</li></ul></div><div class=\"card\"><h3>Patient Count</h3><ul><li class='values'>0</li></ul></div><div class=\"card\"><h3>Specimen</h3><ul><li><span>Count:</span> <span>0</span></li></ul></div></div>"
      ],
      "text/plain": [
       "\u001b[1m<\u001b[0m\u001b[1;95mIPython.core.display.HTML\u001b[0m\u001b[39m object\u001b[0m\u001b[1m>\u001b[0m"
      ]
     },
     "metadata": {},
     "output_type": "display_data"
    },
    {
     "data": {
      "text/html": [
       "<pre style=\"white-space:pre;overflow-x:auto;line-height:normal;font-family:Menlo,'DejaVu Sans Mono',consolas,'Courier New',monospace\"></pre>\n"
      ],
      "text/plain": []
     },
     "metadata": {},
     "output_type": "display_data"
    },
    {
     "data": {
      "text/html": [
       "<style>\n",
       "                    .container {\n",
       "                display: grid;\n",
       "                grid-template-columns: repeat(4, minmax(7.5rem, 1fr)); /* Responsive grid */\n",
       "                gap: .5rem;\n",
       "                max-width:1000px;\n",
       "            }\n",
       "            .card {\n",
       "                border: 1px solid #00000069;\n",
       "                padding: 15px;\n",
       "                border-radius: 3px;\n",
       "                /* box-shadow: 2px 2px 5px rgba(0, 0, 0, 0.1); */\n",
       "            }\n",
       "            .card ul {\n",
       "                list-style: none;\n",
       "                padding: 0!important;\n",
       "                margin: 0;\n",
       "                margin-top:.5rem;\n",
       "                display: grid;\n",
       "                grid-template-columns: repeat(auto-fit, minmax(3rem,120px));\n",
       "            }\n",
       "            .card h3 {\n",
       "                margin: 0!important;\n",
       "            }\n",
       "            li {\n",
       "            # display:flex;\n",
       "            # white-space:nowrap!important;\n",
       "            # width:fit-content;\n",
       "            # justify-content:space-between;\n",
       "            }\n",
       "        </style><h2>TEAM-DS</h2><div class='container'><div class=\"card\"><h3>Document References</h3><ul><li><span>Controlled:</span> <span>0</span></li><li><span>Registered:</span> <span>0</span></li></ul></div><div class=\"card\"><h3>Down Syndrome Status</h3><ul><li><span>D21:</span> <span>0</span></li><li><span>T21:</span> <span>0</span></li></ul></div><div class=\"card\"><h3>Family Relationship</h3><ul><li><span>Father:</span> <span>0</span></li><li><span>Mother:</span> <span>0</span></li><li><span>OtherMember:</span> <span>0</span></li><li><span>Parent:</span> <span>0</span></li><li><span>Sibling:</span> <span>0</span></li></ul></div><div class=\"card\"><h3>Family Type</h3><ul><li><span>Control-only:</span> <span>0</span></li><li><span>Duo:</span> <span>0</span></li><li><span>Other:</span> <span>0</span></li><li><span>Proband-Only:</span> <span>0</span></li><li><span>Trio:</span> <span>0</span></li><li><span>Trio+:</span> <span>0</span></li></ul></div><div class=\"card\"><h3>Participant Global IDs</h3><ul><li class='values'>0</li></ul></div><div class=\"card\"><h3>Patient Count</h3><ul><li class='values'>0</li></ul></div><div class=\"card\"><h3>Specimen</h3><ul><li><span>Count:</span> <span>0</span></li></ul></div></div>"
      ],
      "text/plain": [
       "\u001b[1m<\u001b[0m\u001b[1;95mIPython.core.display.HTML\u001b[0m\u001b[39m object\u001b[0m\u001b[1m>\u001b[0m"
      ]
     },
     "metadata": {},
     "output_type": "display_data"
    },
    {
     "data": {
      "text/html": [
       "<pre style=\"white-space:pre;overflow-x:auto;line-height:normal;font-family:Menlo,'DejaVu Sans Mono',consolas,'Courier New',monospace\"></pre>\n"
      ],
      "text/plain": []
     },
     "metadata": {},
     "output_type": "display_data"
    },
    {
     "data": {
      "text/html": [
       "<style>\n",
       "                    .container {\n",
       "                display: grid;\n",
       "                grid-template-columns: repeat(4, minmax(7.5rem, 1fr)); /* Responsive grid */\n",
       "                gap: .5rem;\n",
       "                max-width:1000px;\n",
       "            }\n",
       "            .card {\n",
       "                border: 1px solid #00000069;\n",
       "                padding: 15px;\n",
       "                border-radius: 3px;\n",
       "                /* box-shadow: 2px 2px 5px rgba(0, 0, 0, 0.1); */\n",
       "            }\n",
       "            .card ul {\n",
       "                list-style: none;\n",
       "                padding: 0!important;\n",
       "                margin: 0;\n",
       "                margin-top:.5rem;\n",
       "                display: grid;\n",
       "                grid-template-columns: repeat(auto-fit, minmax(3rem,120px));\n",
       "            }\n",
       "            .card h3 {\n",
       "                margin: 0!important;\n",
       "            }\n",
       "            li {\n",
       "            # display:flex;\n",
       "            # white-space:nowrap!important;\n",
       "            # width:fit-content;\n",
       "            # justify-content:space-between;\n",
       "            }\n",
       "        </style><h2>X01-deSmith</h2><div class='container'><div class=\"card\"><h3>Document References</h3><ul><li><span>Controlled:</span> <span>0</span></li><li><span>Registered:</span> <span>0</span></li></ul></div><div class=\"card\"><h3>Down Syndrome Status</h3><ul><li><span>D21:</span> <span>0</span></li><li><span>T21:</span> <span>0</span></li></ul></div><div class=\"card\"><h3>Family Relationship</h3><ul><li><span>Father:</span> <span>0</span></li><li><span>Mother:</span> <span>0</span></li><li><span>OtherMember:</span> <span>0</span></li><li><span>Parent:</span> <span>0</span></li><li><span>Sibling:</span> <span>0</span></li></ul></div><div class=\"card\"><h3>Family Type</h3><ul><li><span>Control-only:</span> <span>0</span></li><li><span>Duo:</span> <span>0</span></li><li><span>Other:</span> <span>0</span></li><li><span>Proband-Only:</span> <span>0</span></li><li><span>Trio:</span> <span>0</span></li><li><span>Trio+:</span> <span>0</span></li></ul></div><div class=\"card\"><h3>Participant Global IDs</h3><ul><li class='values'>0</li></ul></div><div class=\"card\"><h3>Patient Count</h3><ul><li class='values'>0</li></ul></div><div class=\"card\"><h3>Specimen</h3><ul><li><span>Count:</span> <span>0</span></li></ul></div></div>"
      ],
      "text/plain": [
       "\u001b[1m<\u001b[0m\u001b[1;95mIPython.core.display.HTML\u001b[0m\u001b[39m object\u001b[0m\u001b[1m>\u001b[0m"
      ]
     },
     "metadata": {},
     "output_type": "display_data"
    },
    {
     "data": {
      "text/html": [
       "<pre style=\"white-space:pre;overflow-x:auto;line-height:normal;font-family:Menlo,'DejaVu Sans Mono',consolas,'Courier New',monospace\"></pre>\n"
      ],
      "text/plain": []
     },
     "metadata": {},
     "output_type": "display_data"
    },
    {
     "data": {
      "text/html": [
       "<style>\n",
       "                    .container {\n",
       "                display: grid;\n",
       "                grid-template-columns: repeat(4, minmax(7.5rem, 1fr)); /* Responsive grid */\n",
       "                gap: .5rem;\n",
       "                max-width:1000px;\n",
       "            }\n",
       "            .card {\n",
       "                border: 1px solid #00000069;\n",
       "                padding: 15px;\n",
       "                border-radius: 3px;\n",
       "                /* box-shadow: 2px 2px 5px rgba(0, 0, 0, 0.1); */\n",
       "            }\n",
       "            .card ul {\n",
       "                list-style: none;\n",
       "                padding: 0!important;\n",
       "                margin: 0;\n",
       "                margin-top:.5rem;\n",
       "                display: grid;\n",
       "                grid-template-columns: repeat(auto-fit, minmax(3rem,120px));\n",
       "            }\n",
       "            .card h3 {\n",
       "                margin: 0!important;\n",
       "            }\n",
       "            li {\n",
       "            # display:flex;\n",
       "            # white-space:nowrap!important;\n",
       "            # width:fit-content;\n",
       "            # justify-content:space-between;\n",
       "            }\n",
       "        </style><h2>X01-Hakonarson</h2><div class='container'><div class=\"card\"><h3>Document References</h3><ul><li><span>Controlled:</span> <span>0</span></li><li><span>Registered:</span> <span>0</span></li></ul></div><div class=\"card\"><h3>Down Syndrome Status</h3><ul><li><span>D21:</span> <span>0</span></li><li><span>T21:</span> <span>0</span></li></ul></div><div class=\"card\"><h3>Family Relationship</h3><ul><li><span>Father:</span> <span>0</span></li><li><span>Mother:</span> <span>0</span></li><li><span>OtherMember:</span> <span>0</span></li><li><span>Parent:</span> <span>0</span></li><li><span>Sibling:</span> <span>0</span></li></ul></div><div class=\"card\"><h3>Family Type</h3><ul><li><span>Control-only:</span> <span>0</span></li><li><span>Duo:</span> <span>0</span></li><li><span>Other:</span> <span>0</span></li><li><span>Proband-Only:</span> <span>0</span></li><li><span>Trio:</span> <span>0</span></li><li><span>Trio+:</span> <span>0</span></li></ul></div><div class=\"card\"><h3>Participant Global IDs</h3><ul><li class='values'>0</li></ul></div><div class=\"card\"><h3>Patient Count</h3><ul><li class='values'>0</li></ul></div><div class=\"card\"><h3>Specimen</h3><ul><li><span>Count:</span> <span>0</span></li></ul></div></div>"
      ],
      "text/plain": [
       "\u001b[1m<\u001b[0m\u001b[1;95mIPython.core.display.HTML\u001b[0m\u001b[39m object\u001b[0m\u001b[1m>\u001b[0m"
      ]
     },
     "metadata": {},
     "output_type": "display_data"
    }
   ],
   "source": [
    "#display summaries\n",
    "for study in AVAILABLE_STUDIES:\n",
    "    with open(f\"output/summary/PROD/fhir_summary_{study}.yaml\", 'r') as file:\n",
    "        yaml_content = yaml.safe_load(file)\n",
    "    cards_html = \"\"\n",
    "    for section, values in yaml_content.items():\n",
    "        card_content = f\"<h3>{section}</h3><ul>\"\n",
    "        if isinstance(values, dict):  # Check if 'values' is a dictionary\n",
    "            for key, value in values.items():\n",
    "                card_content += f\"<li><span>{key}:</span> <span>{value}</span></li>\"\n",
    "        else:\n",
    "            card_content += f\"<li class='values'>{values}</li>\"  # Handle single values\n",
    "        card_content += \"</ul>\"\n",
    "        cards_html += f'<div class=\"card\">{card_content}</div>'\n",
    "\n",
    "        style = \"\"\"<style>\n",
    "                    .container {\n",
    "                display: grid;\n",
    "                grid-template-columns: repeat(4, minmax(7.5rem, 1fr)); /* Responsive grid */\n",
    "                gap: .5rem;\n",
    "                max-width:1000px;\n",
    "            }\n",
    "            .card {\n",
    "                border: 1px solid #00000069;\n",
    "                padding: 15px;\n",
    "                border-radius: 3px;\n",
    "                /* box-shadow: 2px 2px 5px rgba(0, 0, 0, 0.1); */\n",
    "            }\n",
    "            .card ul {\n",
    "                list-style: none;\n",
    "                padding: 0!important;\n",
    "                margin: 0;\n",
    "                margin-top:.5rem;\n",
    "                display: grid;\n",
    "                grid-template-columns: repeat(auto-fit, minmax(3rem,120px));\n",
    "            }\n",
    "            .card h3 {\n",
    "                margin: 0!important;\n",
    "            }\n",
    "            li {\n",
    "            # display:flex;\n",
    "            # white-space:nowrap!important;\n",
    "            # width:fit-content;\n",
    "            # justify-content:space-between;\n",
    "            }\n",
    "        </style>\"\"\"\n",
    "    display(HTML(style + f\"<h2>{study}</h2>\" +\"<div class='container'>\" + cards_html +\"</div>\"))\n"
   ]
  },
  {
   "cell_type": "code",
   "execution_count": null,
   "id": "8bca878c-5670-495d-82d0-639e1268339a",
   "metadata": {},
   "outputs": [],
   "source": []
  }
 ],
 "metadata": {
  "kernelspec": {
   "display_name": "base",
   "language": "python",
   "name": "base"
  },
  "language_info": {
   "codemirror_mode": {
    "name": "ipython",
    "version": 3
   },
   "file_extension": ".py",
   "mimetype": "text/x-python",
   "name": "python",
   "nbconvert_exporter": "python",
   "pygments_lexer": "ipython3",
   "version": "3.8.17"
  }
 },
 "nbformat": 4,
 "nbformat_minor": 5
}
