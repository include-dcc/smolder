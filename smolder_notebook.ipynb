{
 "cells": [
  {
   "cell_type": "markdown",
   "id": "b8e32f08",
   "metadata": {},
   "source": [
    "# INCLUDE FHIR Summary Notebook"
   ]
  },
  {
   "cell_type": "markdown",
   "id": "9ef099c2",
   "metadata": {},
   "source": [
    "### Set-up ⬇️"
   ]
  },
  {
   "cell_type": "code",
   "execution_count": null,
   "id": "579c1b9f-0c12-459c-bf54-df28afb809d3",
   "metadata": {
    "scrolled": true
   },
   "outputs": [],
   "source": [
    "%%capture\n",
    "%pip install git+https://github.com/ncpi-fhir/ncpi-fhir-client #to do fetch from git url\n",
    "#imports\n",
    "from IPython.display import display, HTML\n",
    "from run_summaries import exec\n",
    "from notebook_helper import diplay_summaries, folder_diff, PROD_loc, QA_loc #, display_summaries"
   ]
  },
  {
   "cell_type": "markdown",
   "id": "30a79537",
   "metadata": {},
   "source": [
    "### Generate summary files ⬇️"
   ]
  },
  {
   "cell_type": "code",
   "execution_count": null,
   "id": "b6697139",
   "metadata": {},
   "outputs": [],
   "source": [
    "exec()"
   ]
  },
  {
   "cell_type": "markdown",
   "id": "1870e28a",
   "metadata": {},
   "source": [
    "### Check if QA and Prod are synced ⬇️"
   ]
  },
  {
   "cell_type": "code",
   "execution_count": null,
   "id": "74e1f5ac",
   "metadata": {},
   "outputs": [],
   "source": [
    "display(HTML(\"<div style='padding:1rem; border:1px solid; background:#eeee;'>\" + folder_diff(PROD_loc, QA_loc) + \"</div>\"))"
   ]
  },
  {
   "cell_type": "markdown",
   "id": "423a98b4",
   "metadata": {},
   "source": [
    "### Display Summaries ⬇️"
   ]
  },
  {
   "cell_type": "code",
   "execution_count": null,
   "id": "92905810",
   "metadata": {
    "jupyter": {
     "source_hidden": true
    }
   },
   "outputs": [],
   "source": [
    "display(HTML(diplay_summaries()))"
   ]
  }
 ],
 "metadata": {
  "kernelspec": {
   "display_name": "base",
   "language": "python",
   "name": "base"
  },
  "language_info": {
   "codemirror_mode": {
    "name": "ipython",
    "version": 3
   },
   "file_extension": ".py",
   "mimetype": "text/x-python",
   "name": "python",
   "nbconvert_exporter": "python",
   "pygments_lexer": "ipython3",
   "version": "3.8.17"
  }
 },
 "nbformat": 4,
 "nbformat_minor": 5
}
